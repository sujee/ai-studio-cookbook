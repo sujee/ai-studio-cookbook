{
  "cells": [
    {
      "cell_type": "markdown",
      "metadata": {
        "id": "izmeeJoOrkTt"
      },
      "source": [
        "# Run models on Nebius AI Studio (via LiteLLM API)\n",
        "\n",
        "[![Open In Colab](https://colab.research.google.com/assets/colab-badge.svg)](https://colab.research.google.com/github/nebius/ai-studio-cookbook/blob/main/api/api_litellm.ipynb)\n",
        "[![](https://img.shields.io/badge/Powered%20by-Nebius-orange?style=flat&labelColor=darkblue&color=orange)](https://nebius.com/ai-studio)\n",
        "\n",
        "## References and Acknowledgements\n",
        "\n",
        "- [LiteLLM documentation](https://docs.litellm.ai/)\n",
        "- [LiteLLM + nebius API examples](https://docs.litellm.ai/docs/providers/nebius)\n",
        "\n",
        "## Pre requisites\n",
        "\n",
        "- Nebius API key.  Sign up for free at [AI Studio](https://studio.nebius.com/)\n",
        "- And complete [the setup](https://github.com/nebius/ai-studio-cookbook/blob/main/setup-dev-env.md)\n",
        "\n"
      ]
    },
    {
      "cell_type": "markdown",
      "metadata": {
        "id": "iNJ-WCDSEy0G"
      },
      "source": [
        "## 1 - Install Dependencies"
      ]
    },
    {
      "cell_type": "code",
      "execution_count": 7,
      "metadata": {
        "colab": {
          "base_uri": "https://localhost:8080/"
        },
        "id": "OTElVQApE9I7",
        "outputId": "545945e2-891a-42ef-bd1f-43144ec79e62"
      },
      "outputs": [
        {
          "name": "stdout",
          "output_type": "stream",
          "text": [
            "Requirement already satisfied: litellm in /home/sujee/apps/anaconda3/envs/studio-1/lib/python3.11/site-packages (1.72.4)\n",
            "Requirement already satisfied: aiohttp in /home/sujee/apps/anaconda3/envs/studio-1/lib/python3.11/site-packages (from litellm) (3.12.12)\n",
            "Requirement already satisfied: click in /home/sujee/apps/anaconda3/envs/studio-1/lib/python3.11/site-packages (from litellm) (8.2.1)\n",
            "Requirement already satisfied: httpx>=0.23.0 in /home/sujee/apps/anaconda3/envs/studio-1/lib/python3.11/site-packages (from litellm) (0.27.2)\n",
            "Requirement already satisfied: importlib-metadata>=6.8.0 in /home/sujee/apps/anaconda3/envs/studio-1/lib/python3.11/site-packages (from litellm) (8.7.0)\n",
            "Requirement already satisfied: jinja2<4.0.0,>=3.1.2 in /home/sujee/apps/anaconda3/envs/studio-1/lib/python3.11/site-packages (from litellm) (3.1.6)\n",
            "Requirement already satisfied: jsonschema<5.0.0,>=4.22.0 in /home/sujee/apps/anaconda3/envs/studio-1/lib/python3.11/site-packages (from litellm) (4.24.0)\n",
            "Requirement already satisfied: openai>=1.68.2 in /home/sujee/apps/anaconda3/envs/studio-1/lib/python3.11/site-packages (from litellm) (1.86.0)\n",
            "Requirement already satisfied: pydantic<3.0.0,>=2.0.0 in /home/sujee/apps/anaconda3/envs/studio-1/lib/python3.11/site-packages (from litellm) (2.11.5)\n",
            "Requirement already satisfied: python-dotenv>=0.2.0 in /home/sujee/apps/anaconda3/envs/studio-1/lib/python3.11/site-packages (from litellm) (1.1.0)\n",
            "Requirement already satisfied: tiktoken>=0.7.0 in /home/sujee/apps/anaconda3/envs/studio-1/lib/python3.11/site-packages (from litellm) (0.9.0)\n",
            "Requirement already satisfied: tokenizers in /home/sujee/apps/anaconda3/envs/studio-1/lib/python3.11/site-packages (from litellm) (0.21.1)\n",
            "Requirement already satisfied: MarkupSafe>=2.0 in /home/sujee/apps/anaconda3/envs/studio-1/lib/python3.11/site-packages (from jinja2<4.0.0,>=3.1.2->litellm) (3.0.2)\n",
            "Requirement already satisfied: attrs>=22.2.0 in /home/sujee/apps/anaconda3/envs/studio-1/lib/python3.11/site-packages (from jsonschema<5.0.0,>=4.22.0->litellm) (25.3.0)\n",
            "Requirement already satisfied: jsonschema-specifications>=2023.03.6 in /home/sujee/apps/anaconda3/envs/studio-1/lib/python3.11/site-packages (from jsonschema<5.0.0,>=4.22.0->litellm) (2025.4.1)\n",
            "Requirement already satisfied: referencing>=0.28.4 in /home/sujee/apps/anaconda3/envs/studio-1/lib/python3.11/site-packages (from jsonschema<5.0.0,>=4.22.0->litellm) (0.36.2)\n",
            "Requirement already satisfied: rpds-py>=0.7.1 in /home/sujee/apps/anaconda3/envs/studio-1/lib/python3.11/site-packages (from jsonschema<5.0.0,>=4.22.0->litellm) (0.25.1)\n",
            "Requirement already satisfied: annotated-types>=0.6.0 in /home/sujee/apps/anaconda3/envs/studio-1/lib/python3.11/site-packages (from pydantic<3.0.0,>=2.0.0->litellm) (0.7.0)\n",
            "Requirement already satisfied: pydantic-core==2.33.2 in /home/sujee/apps/anaconda3/envs/studio-1/lib/python3.11/site-packages (from pydantic<3.0.0,>=2.0.0->litellm) (2.33.2)\n",
            "Requirement already satisfied: typing-extensions>=4.12.2 in /home/sujee/apps/anaconda3/envs/studio-1/lib/python3.11/site-packages (from pydantic<3.0.0,>=2.0.0->litellm) (4.14.0)\n",
            "Requirement already satisfied: typing-inspection>=0.4.0 in /home/sujee/apps/anaconda3/envs/studio-1/lib/python3.11/site-packages (from pydantic<3.0.0,>=2.0.0->litellm) (0.4.1)\n",
            "Requirement already satisfied: anyio in /home/sujee/apps/anaconda3/envs/studio-1/lib/python3.11/site-packages (from httpx>=0.23.0->litellm) (4.9.0)\n",
            "Requirement already satisfied: certifi in /home/sujee/apps/anaconda3/envs/studio-1/lib/python3.11/site-packages (from httpx>=0.23.0->litellm) (2025.4.26)\n",
            "Requirement already satisfied: httpcore==1.* in /home/sujee/apps/anaconda3/envs/studio-1/lib/python3.11/site-packages (from httpx>=0.23.0->litellm) (1.0.9)\n",
            "Requirement already satisfied: idna in /home/sujee/apps/anaconda3/envs/studio-1/lib/python3.11/site-packages (from httpx>=0.23.0->litellm) (3.10)\n",
            "Requirement already satisfied: sniffio in /home/sujee/apps/anaconda3/envs/studio-1/lib/python3.11/site-packages (from httpx>=0.23.0->litellm) (1.3.1)\n",
            "Requirement already satisfied: h11>=0.16 in /home/sujee/apps/anaconda3/envs/studio-1/lib/python3.11/site-packages (from httpcore==1.*->httpx>=0.23.0->litellm) (0.16.0)\n",
            "Requirement already satisfied: zipp>=3.20 in /home/sujee/apps/anaconda3/envs/studio-1/lib/python3.11/site-packages (from importlib-metadata>=6.8.0->litellm) (3.23.0)\n",
            "Requirement already satisfied: distro<2,>=1.7.0 in /home/sujee/apps/anaconda3/envs/studio-1/lib/python3.11/site-packages (from openai>=1.68.2->litellm) (1.9.0)\n",
            "Requirement already satisfied: jiter<1,>=0.4.0 in /home/sujee/apps/anaconda3/envs/studio-1/lib/python3.11/site-packages (from openai>=1.68.2->litellm) (0.10.0)\n",
            "Requirement already satisfied: tqdm>4 in /home/sujee/apps/anaconda3/envs/studio-1/lib/python3.11/site-packages (from openai>=1.68.2->litellm) (4.67.1)\n",
            "Requirement already satisfied: regex>=2022.1.18 in /home/sujee/apps/anaconda3/envs/studio-1/lib/python3.11/site-packages (from tiktoken>=0.7.0->litellm) (2024.11.6)\n",
            "Requirement already satisfied: requests>=2.26.0 in /home/sujee/apps/anaconda3/envs/studio-1/lib/python3.11/site-packages (from tiktoken>=0.7.0->litellm) (2.32.4)\n",
            "Requirement already satisfied: charset_normalizer<4,>=2 in /home/sujee/apps/anaconda3/envs/studio-1/lib/python3.11/site-packages (from requests>=2.26.0->tiktoken>=0.7.0->litellm) (3.4.2)\n",
            "Requirement already satisfied: urllib3<3,>=1.21.1 in /home/sujee/apps/anaconda3/envs/studio-1/lib/python3.11/site-packages (from requests>=2.26.0->tiktoken>=0.7.0->litellm) (2.4.0)\n",
            "Requirement already satisfied: aiohappyeyeballs>=2.5.0 in /home/sujee/apps/anaconda3/envs/studio-1/lib/python3.11/site-packages (from aiohttp->litellm) (2.6.1)\n",
            "Requirement already satisfied: aiosignal>=1.1.2 in /home/sujee/apps/anaconda3/envs/studio-1/lib/python3.11/site-packages (from aiohttp->litellm) (1.3.2)\n",
            "Requirement already satisfied: frozenlist>=1.1.1 in /home/sujee/apps/anaconda3/envs/studio-1/lib/python3.11/site-packages (from aiohttp->litellm) (1.7.0)\n",
            "Requirement already satisfied: multidict<7.0,>=4.5 in /home/sujee/apps/anaconda3/envs/studio-1/lib/python3.11/site-packages (from aiohttp->litellm) (6.4.4)\n",
            "Requirement already satisfied: propcache>=0.2.0 in /home/sujee/apps/anaconda3/envs/studio-1/lib/python3.11/site-packages (from aiohttp->litellm) (0.3.2)\n",
            "Requirement already satisfied: yarl<2.0,>=1.17.0 in /home/sujee/apps/anaconda3/envs/studio-1/lib/python3.11/site-packages (from aiohttp->litellm) (1.20.1)\n",
            "Requirement already satisfied: huggingface-hub<1.0,>=0.16.4 in /home/sujee/apps/anaconda3/envs/studio-1/lib/python3.11/site-packages (from tokenizers->litellm) (0.33.0)\n",
            "Requirement already satisfied: filelock in /home/sujee/apps/anaconda3/envs/studio-1/lib/python3.11/site-packages (from huggingface-hub<1.0,>=0.16.4->tokenizers->litellm) (3.18.0)\n",
            "Requirement already satisfied: fsspec>=2023.5.0 in /home/sujee/apps/anaconda3/envs/studio-1/lib/python3.11/site-packages (from huggingface-hub<1.0,>=0.16.4->tokenizers->litellm) (2025.5.1)\n",
            "Requirement already satisfied: packaging>=20.9 in /home/sujee/apps/anaconda3/envs/studio-1/lib/python3.11/site-packages (from huggingface-hub<1.0,>=0.16.4->tokenizers->litellm) (25.0)\n",
            "Requirement already satisfied: pyyaml>=5.1 in /home/sujee/apps/anaconda3/envs/studio-1/lib/python3.11/site-packages (from huggingface-hub<1.0,>=0.16.4->tokenizers->litellm) (6.0.2)\n",
            "Requirement already satisfied: hf-xet<2.0.0,>=1.1.2 in /home/sujee/apps/anaconda3/envs/studio-1/lib/python3.11/site-packages (from huggingface-hub<1.0,>=0.16.4->tokenizers->litellm) (1.1.3)\n"
          ]
        }
      ],
      "source": [
        "!pip install   litellm "
      ]
    },
    {
      "cell_type": "markdown",
      "metadata": {
        "id": "Xp6woeSsFGo5"
      },
      "source": [
        "## 2 - Load Configuration\n"
      ]
    },
    {
      "cell_type": "code",
      "execution_count": 8,
      "metadata": {
        "colab": {
          "base_uri": "https://localhost:8080/"
        },
        "id": "sFSX16IeFLKa",
        "outputId": "40304ba1-036f-4e79-b836-2b706a9a1bcc"
      },
      "outputs": [
        {
          "name": "stdout",
          "output_type": "stream",
          "text": [
            "NOT running in Colab\n",
            "✅ NEBIUS_API_KEY found\n"
          ]
        }
      ],
      "source": [
        "import os, sys\n",
        "\n",
        "## Recommended way of getting configuration\n",
        "if os.getenv(\"COLAB_RELEASE_TAG\"):\n",
        "   print(\"Running in Colab\")\n",
        "   from google.colab import userdata\n",
        "   NEBIUS_API_KEY = userdata.get('NEBIUS_API_KEY')\n",
        "else:\n",
        "   print(\"NOT running in Colab\")\n",
        "   from dotenv import load_dotenv\n",
        "   this_dir = os.path.abspath('')\n",
        "   parent_dir = os.path.dirname(this_dir)\n",
        "   sys.path.append (os.path.abspath (parent_dir))\n",
        "   load_dotenv()\n",
        "   NEBIUS_API_KEY = os.getenv('NEBIUS_API_KEY')\n",
        "\n",
        "## quick hack (not recommended) - you can hardcode the config key here\n",
        "# NEBIUS_API_KEY = \"your_key_here\"\n",
        "\n",
        "if NEBIUS_API_KEY:\n",
        "  print ('✅ NEBIUS_API_KEY found')\n",
        "  os.environ['NEBIUS_API_KEY'] = NEBIUS_API_KEY\n",
        "else:\n",
        "  raise RuntimeError ('❌ NEBIUS_API_KEY NOT found')"
      ]
    },
    {
      "cell_type": "markdown",
      "metadata": {
        "id": "e3vB3EdQGnLX"
      },
      "source": [
        "## 3 - Pick a Model\n",
        "\n",
        "1. Go to **models** tab in [studio.nebius.com](https://studio.nebius.com/)\n",
        "2. Copy the model name.  For example **`meta-llama/Llama-3.3-70B-Instruct`**\n",
        "\n",
        "![](https://raw.githubusercontent.com/nebius/ai-studio-cookbook/main/images/ai-studio-1-models.png)"
      ]
    },
    {
      "cell_type": "markdown",
      "metadata": {},
      "source": [
        "## 4 - Run the Model"
      ]
    },
    {
      "cell_type": "code",
      "execution_count": 9,
      "metadata": {
        "colab": {
          "base_uri": "https://localhost:8080/"
        },
        "id": "R8htBO7iH6-e",
        "outputId": "f5280299-a087-4708-c1dc-4c2f5669bf08"
      },
      "outputs": [
        {
          "name": "stdout",
          "output_type": "stream",
          "text": [
            "----model answer -----\n",
            "The capital of the Netherlands is Amsterdam.\n",
            "\n",
            "----- full response ----\n",
            "{\n",
            "  \"id\": \"chatcmpl-8b6aa8ff6b4342c2b4d75c7eb2244ff1\",\n",
            "  \"created\": 1749796345,\n",
            "  \"model\": \"nebius/meta-llama/Llama-3.3-70B-Instruct\",\n",
            "  \"object\": \"chat.completion\",\n",
            "  \"system_fingerprint\": null,\n",
            "  \"choices\": [\n",
            "    {\n",
            "      \"finish_reason\": \"stop\",\n",
            "      \"index\": 0,\n",
            "      \"message\": {\n",
            "        \"content\": \"The capital of the Netherlands is Amsterdam.\",\n",
            "        \"role\": \"assistant\",\n",
            "        \"tool_calls\": null,\n",
            "        \"function_call\": null\n",
            "      }\n",
            "    }\n",
            "  ],\n",
            "  \"usage\": {\n",
            "    \"completion_tokens\": 9,\n",
            "    \"prompt_tokens\": 42,\n",
            "    \"total_tokens\": 51,\n",
            "    \"completion_tokens_details\": null,\n",
            "    \"prompt_tokens_details\": null\n",
            "  },\n",
            "  \"service_tier\": null,\n",
            "  \"prompt_logprobs\": null\n",
            "}\n",
            "---------\n",
            "CPU times: user 14.5 ms, sys: 3.11 ms, total: 17.6 ms\n",
            "Wall time: 1.11 s\n"
          ]
        }
      ],
      "source": [
        "%%time\n",
        "\n",
        "import os\n",
        "from litellm import completion\n",
        "\n",
        "response = completion(\n",
        "    model=\"nebius/meta-llama/Llama-3.3-70B-Instruct\",\n",
        "    messages=[\n",
        "        {\n",
        "            \"role\": \"user\",\n",
        "            \"content\": \"What is the capital of Netherlands?\",\n",
        "        }\n",
        "    ],\n",
        "    temperature=0.1,  # either set temperature or `top_p`\n",
        ")\n",
        "\n",
        "print ('----model answer -----')\n",
        "print (response.choices[0].message.content)\n",
        "print ('\\n----- full response ----')\n",
        "print(response.to_json())\n",
        "print ('---------')"
      ]
    },
    {
      "cell_type": "markdown",
      "metadata": {},
      "source": [
        "## 5 - Try Your Queries\n",
        "\n",
        "Go ahead and experiment with your queries.  Here are some to get you started.\n",
        "\n",
        "> Write python code to read a csv file\n",
        "\n",
        "> write a haiku about cats"
      ]
    }
  ],
  "metadata": {
    "colab": {
      "provenance": []
    },
    "kernelspec": {
      "display_name": "studio-1",
      "language": "python",
      "name": "python3"
    },
    "language_info": {
      "codemirror_mode": {
        "name": "ipython",
        "version": 3
      },
      "file_extension": ".py",
      "mimetype": "text/x-python",
      "name": "python",
      "nbconvert_exporter": "python",
      "pygments_lexer": "ipython3",
      "version": "3.11.13"
    }
  },
  "nbformat": 4,
  "nbformat_minor": 0
}

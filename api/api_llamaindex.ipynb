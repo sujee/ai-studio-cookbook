{
  "cells": [
    {
      "cell_type": "markdown",
      "metadata": {
        "id": "izmeeJoOrkTt"
      },
      "source": [
        "# Run models on Nebius AI Studio (via LlamaIndex API)\n",
        "\n",
        "[![Open In Colab](https://colab.research.google.com/assets/colab-badge.svg)](https://colab.research.google.com/github/nebius/ai-studio-cookbook/blob/main/api/api_llamaindex.ipynb)\n",
        "[![](https://img.shields.io/badge/Powered%20by-Nebius-orange?style=flat&labelColor=darkblue&color=orange)](https://nebius.com/ai-studio)\n",
        "\n",
        "## References and Acknowledgements\n",
        "\n",
        "- [llama-index](https://docs.llamaindex.ai/en/stable/)\n",
        "- [LlamaIndex + nebius API examples](https://docs.llamaindex.ai/en/stable/api_reference/llms/nebius/#llama_index.llms.nebius.NebiusLLM)\n",
        "\n",
        "## Pre requisites\n",
        "\n",
        "- Nebius API key.  Sign up for free at [AI Studio](https://studio.nebius.com/)\n",
        "- And complete [the setup](https://github.com/nebius/ai-studio-cookbook/blob/main/setup-dev-env.md)\n",
        "\n"
      ]
    },
    {
      "cell_type": "markdown",
      "metadata": {
        "id": "iNJ-WCDSEy0G"
      },
      "source": [
        "## 1 - Install Dependencies"
      ]
    },
    {
      "cell_type": "code",
      "execution_count": 1,
      "metadata": {
        "colab": {
          "base_uri": "https://localhost:8080/"
        },
        "id": "OTElVQApE9I7",
        "outputId": "545945e2-891a-42ef-bd1f-43144ec79e62"
      },
      "outputs": [
        {
          "name": "stdout",
          "output_type": "stream",
          "text": [
            "Collecting llama-index-llms-nebius\n",
            "  Downloading llama_index_llms_nebius-0.1.2-py3-none-any.whl.metadata (2.1 kB)\n",
            "Collecting llama-index-core<0.13,>=0.12.0 (from llama-index-llms-nebius)\n",
            "  Downloading llama_index_core-0.12.42-py3-none-any.whl.metadata (2.4 kB)\n",
            "Collecting llama-index-llms-openai-like<0.5,>=0.4.0 (from llama-index-llms-nebius)\n",
            "  Downloading llama_index_llms_openai_like-0.4.0-py3-none-any.whl.metadata (1.1 kB)\n",
            "Requirement already satisfied: aiohttp<4,>=3.8.6 in /home/sujee/apps/anaconda3/envs/studio-1/lib/python3.11/site-packages (from llama-index-core<0.13,>=0.12.0->llama-index-llms-nebius) (3.12.12)\n",
            "Collecting aiosqlite (from llama-index-core<0.13,>=0.12.0->llama-index-llms-nebius)\n",
            "  Using cached aiosqlite-0.21.0-py3-none-any.whl.metadata (4.3 kB)\n",
            "Collecting banks<3,>=2.0.0 (from llama-index-core<0.13,>=0.12.0->llama-index-llms-nebius)\n",
            "  Using cached banks-2.1.2-py3-none-any.whl.metadata (12 kB)\n",
            "Collecting dataclasses-json (from llama-index-core<0.13,>=0.12.0->llama-index-llms-nebius)\n",
            "  Using cached dataclasses_json-0.6.7-py3-none-any.whl.metadata (25 kB)\n",
            "Collecting deprecated>=1.2.9.3 (from llama-index-core<0.13,>=0.12.0->llama-index-llms-nebius)\n",
            "  Using cached Deprecated-1.2.18-py2.py3-none-any.whl.metadata (5.7 kB)\n",
            "Collecting dirtyjson<2,>=1.0.8 (from llama-index-core<0.13,>=0.12.0->llama-index-llms-nebius)\n",
            "  Using cached dirtyjson-1.0.8-py3-none-any.whl.metadata (11 kB)\n",
            "Collecting filetype<2,>=1.2.0 (from llama-index-core<0.13,>=0.12.0->llama-index-llms-nebius)\n",
            "  Using cached filetype-1.2.0-py2.py3-none-any.whl.metadata (6.5 kB)\n",
            "Requirement already satisfied: fsspec>=2023.5.0 in /home/sujee/apps/anaconda3/envs/studio-1/lib/python3.11/site-packages (from llama-index-core<0.13,>=0.12.0->llama-index-llms-nebius) (2025.5.1)\n",
            "Requirement already satisfied: httpx in /home/sujee/apps/anaconda3/envs/studio-1/lib/python3.11/site-packages (from llama-index-core<0.13,>=0.12.0->llama-index-llms-nebius) (0.27.2)\n",
            "Requirement already satisfied: nest-asyncio<2,>=1.5.8 in /home/sujee/apps/anaconda3/envs/studio-1/lib/python3.11/site-packages (from llama-index-core<0.13,>=0.12.0->llama-index-llms-nebius) (1.6.0)\n",
            "Collecting networkx>=3.0 (from llama-index-core<0.13,>=0.12.0->llama-index-llms-nebius)\n",
            "  Using cached networkx-3.5-py3-none-any.whl.metadata (6.3 kB)\n",
            "Collecting nltk>3.8.1 (from llama-index-core<0.13,>=0.12.0->llama-index-llms-nebius)\n",
            "  Using cached nltk-3.9.1-py3-none-any.whl.metadata (2.9 kB)\n",
            "Collecting numpy (from llama-index-core<0.13,>=0.12.0->llama-index-llms-nebius)\n",
            "  Using cached numpy-2.3.0-cp311-cp311-manylinux_2_28_x86_64.whl.metadata (62 kB)\n",
            "Collecting pillow>=9.0.0 (from llama-index-core<0.13,>=0.12.0->llama-index-llms-nebius)\n",
            "  Using cached pillow-11.2.1-cp311-cp311-manylinux_2_28_x86_64.whl.metadata (8.9 kB)\n",
            "Requirement already satisfied: pydantic>=2.8.0 in /home/sujee/apps/anaconda3/envs/studio-1/lib/python3.11/site-packages (from llama-index-core<0.13,>=0.12.0->llama-index-llms-nebius) (2.11.5)\n",
            "Requirement already satisfied: pyyaml>=6.0.1 in /home/sujee/apps/anaconda3/envs/studio-1/lib/python3.11/site-packages (from llama-index-core<0.13,>=0.12.0->llama-index-llms-nebius) (6.0.2)\n",
            "Requirement already satisfied: requests>=2.31.0 in /home/sujee/apps/anaconda3/envs/studio-1/lib/python3.11/site-packages (from llama-index-core<0.13,>=0.12.0->llama-index-llms-nebius) (2.32.4)\n",
            "Collecting sqlalchemy>=1.4.49 (from sqlalchemy[asyncio]>=1.4.49->llama-index-core<0.13,>=0.12.0->llama-index-llms-nebius)\n",
            "  Using cached sqlalchemy-2.0.41-cp311-cp311-manylinux_2_17_x86_64.manylinux2014_x86_64.whl.metadata (9.6 kB)\n",
            "Collecting tenacity!=8.4.0,<10.0.0,>=8.2.0 (from llama-index-core<0.13,>=0.12.0->llama-index-llms-nebius)\n",
            "  Using cached tenacity-9.1.2-py3-none-any.whl.metadata (1.2 kB)\n",
            "Requirement already satisfied: tiktoken>=0.7.0 in /home/sujee/apps/anaconda3/envs/studio-1/lib/python3.11/site-packages (from llama-index-core<0.13,>=0.12.0->llama-index-llms-nebius) (0.9.0)\n",
            "Requirement already satisfied: tqdm<5,>=4.66.1 in /home/sujee/apps/anaconda3/envs/studio-1/lib/python3.11/site-packages (from llama-index-core<0.13,>=0.12.0->llama-index-llms-nebius) (4.67.1)\n",
            "Requirement already satisfied: typing-extensions>=4.5.0 in /home/sujee/apps/anaconda3/envs/studio-1/lib/python3.11/site-packages (from llama-index-core<0.13,>=0.12.0->llama-index-llms-nebius) (4.14.0)\n",
            "Collecting typing-inspect>=0.8.0 (from llama-index-core<0.13,>=0.12.0->llama-index-llms-nebius)\n",
            "  Using cached typing_inspect-0.9.0-py3-none-any.whl.metadata (1.5 kB)\n",
            "Collecting wrapt (from llama-index-core<0.13,>=0.12.0->llama-index-llms-nebius)\n",
            "  Using cached wrapt-1.17.2-cp311-cp311-manylinux_2_5_x86_64.manylinux1_x86_64.manylinux_2_17_x86_64.manylinux2014_x86_64.whl.metadata (6.4 kB)\n",
            "Requirement already satisfied: aiohappyeyeballs>=2.5.0 in /home/sujee/apps/anaconda3/envs/studio-1/lib/python3.11/site-packages (from aiohttp<4,>=3.8.6->llama-index-core<0.13,>=0.12.0->llama-index-llms-nebius) (2.6.1)\n",
            "Requirement already satisfied: aiosignal>=1.1.2 in /home/sujee/apps/anaconda3/envs/studio-1/lib/python3.11/site-packages (from aiohttp<4,>=3.8.6->llama-index-core<0.13,>=0.12.0->llama-index-llms-nebius) (1.3.2)\n",
            "Requirement already satisfied: attrs>=17.3.0 in /home/sujee/apps/anaconda3/envs/studio-1/lib/python3.11/site-packages (from aiohttp<4,>=3.8.6->llama-index-core<0.13,>=0.12.0->llama-index-llms-nebius) (25.3.0)\n",
            "Requirement already satisfied: frozenlist>=1.1.1 in /home/sujee/apps/anaconda3/envs/studio-1/lib/python3.11/site-packages (from aiohttp<4,>=3.8.6->llama-index-core<0.13,>=0.12.0->llama-index-llms-nebius) (1.7.0)\n",
            "Requirement already satisfied: multidict<7.0,>=4.5 in /home/sujee/apps/anaconda3/envs/studio-1/lib/python3.11/site-packages (from aiohttp<4,>=3.8.6->llama-index-core<0.13,>=0.12.0->llama-index-llms-nebius) (6.4.4)\n",
            "Requirement already satisfied: propcache>=0.2.0 in /home/sujee/apps/anaconda3/envs/studio-1/lib/python3.11/site-packages (from aiohttp<4,>=3.8.6->llama-index-core<0.13,>=0.12.0->llama-index-llms-nebius) (0.3.2)\n",
            "Requirement already satisfied: yarl<2.0,>=1.17.0 in /home/sujee/apps/anaconda3/envs/studio-1/lib/python3.11/site-packages (from aiohttp<4,>=3.8.6->llama-index-core<0.13,>=0.12.0->llama-index-llms-nebius) (1.20.1)\n",
            "Collecting griffe (from banks<3,>=2.0.0->llama-index-core<0.13,>=0.12.0->llama-index-llms-nebius)\n",
            "  Using cached griffe-1.7.3-py3-none-any.whl.metadata (5.0 kB)\n",
            "Requirement already satisfied: jinja2 in /home/sujee/apps/anaconda3/envs/studio-1/lib/python3.11/site-packages (from banks<3,>=2.0.0->llama-index-core<0.13,>=0.12.0->llama-index-llms-nebius) (3.1.6)\n",
            "Requirement already satisfied: platformdirs in /home/sujee/apps/anaconda3/envs/studio-1/lib/python3.11/site-packages (from banks<3,>=2.0.0->llama-index-core<0.13,>=0.12.0->llama-index-llms-nebius) (4.3.8)\n",
            "Collecting llama-index-llms-openai<0.5,>=0.4.0 (from llama-index-llms-openai-like<0.5,>=0.4.0->llama-index-llms-nebius)\n",
            "  Downloading llama_index_llms_openai-0.4.5-py3-none-any.whl.metadata (3.0 kB)\n",
            "Collecting transformers<5,>=4.37.0 (from llama-index-llms-openai-like<0.5,>=0.4.0->llama-index-llms-nebius)\n",
            "  Using cached transformers-4.52.4-py3-none-any.whl.metadata (38 kB)\n",
            "Requirement already satisfied: openai<2,>=1.81.0 in /home/sujee/apps/anaconda3/envs/studio-1/lib/python3.11/site-packages (from llama-index-llms-openai<0.5,>=0.4.0->llama-index-llms-openai-like<0.5,>=0.4.0->llama-index-llms-nebius) (1.86.0)\n",
            "Requirement already satisfied: anyio<5,>=3.5.0 in /home/sujee/apps/anaconda3/envs/studio-1/lib/python3.11/site-packages (from openai<2,>=1.81.0->llama-index-llms-openai<0.5,>=0.4.0->llama-index-llms-openai-like<0.5,>=0.4.0->llama-index-llms-nebius) (4.9.0)\n",
            "Requirement already satisfied: distro<2,>=1.7.0 in /home/sujee/apps/anaconda3/envs/studio-1/lib/python3.11/site-packages (from openai<2,>=1.81.0->llama-index-llms-openai<0.5,>=0.4.0->llama-index-llms-openai-like<0.5,>=0.4.0->llama-index-llms-nebius) (1.9.0)\n",
            "Requirement already satisfied: jiter<1,>=0.4.0 in /home/sujee/apps/anaconda3/envs/studio-1/lib/python3.11/site-packages (from openai<2,>=1.81.0->llama-index-llms-openai<0.5,>=0.4.0->llama-index-llms-openai-like<0.5,>=0.4.0->llama-index-llms-nebius) (0.10.0)\n",
            "Requirement already satisfied: sniffio in /home/sujee/apps/anaconda3/envs/studio-1/lib/python3.11/site-packages (from openai<2,>=1.81.0->llama-index-llms-openai<0.5,>=0.4.0->llama-index-llms-openai-like<0.5,>=0.4.0->llama-index-llms-nebius) (1.3.1)\n",
            "Requirement already satisfied: idna>=2.8 in /home/sujee/apps/anaconda3/envs/studio-1/lib/python3.11/site-packages (from anyio<5,>=3.5.0->openai<2,>=1.81.0->llama-index-llms-openai<0.5,>=0.4.0->llama-index-llms-openai-like<0.5,>=0.4.0->llama-index-llms-nebius) (3.10)\n",
            "Requirement already satisfied: certifi in /home/sujee/apps/anaconda3/envs/studio-1/lib/python3.11/site-packages (from httpx->llama-index-core<0.13,>=0.12.0->llama-index-llms-nebius) (2025.4.26)\n",
            "Requirement already satisfied: httpcore==1.* in /home/sujee/apps/anaconda3/envs/studio-1/lib/python3.11/site-packages (from httpx->llama-index-core<0.13,>=0.12.0->llama-index-llms-nebius) (1.0.9)\n",
            "Requirement already satisfied: h11>=0.16 in /home/sujee/apps/anaconda3/envs/studio-1/lib/python3.11/site-packages (from httpcore==1.*->httpx->llama-index-core<0.13,>=0.12.0->llama-index-llms-nebius) (0.16.0)\n",
            "Requirement already satisfied: annotated-types>=0.6.0 in /home/sujee/apps/anaconda3/envs/studio-1/lib/python3.11/site-packages (from pydantic>=2.8.0->llama-index-core<0.13,>=0.12.0->llama-index-llms-nebius) (0.7.0)\n",
            "Requirement already satisfied: pydantic-core==2.33.2 in /home/sujee/apps/anaconda3/envs/studio-1/lib/python3.11/site-packages (from pydantic>=2.8.0->llama-index-core<0.13,>=0.12.0->llama-index-llms-nebius) (2.33.2)\n",
            "Requirement already satisfied: typing-inspection>=0.4.0 in /home/sujee/apps/anaconda3/envs/studio-1/lib/python3.11/site-packages (from pydantic>=2.8.0->llama-index-core<0.13,>=0.12.0->llama-index-llms-nebius) (0.4.1)\n",
            "Requirement already satisfied: filelock in /home/sujee/apps/anaconda3/envs/studio-1/lib/python3.11/site-packages (from transformers<5,>=4.37.0->llama-index-llms-openai-like<0.5,>=0.4.0->llama-index-llms-nebius) (3.18.0)\n",
            "Requirement already satisfied: huggingface-hub<1.0,>=0.30.0 in /home/sujee/apps/anaconda3/envs/studio-1/lib/python3.11/site-packages (from transformers<5,>=4.37.0->llama-index-llms-openai-like<0.5,>=0.4.0->llama-index-llms-nebius) (0.33.0)\n",
            "Requirement already satisfied: packaging>=20.0 in /home/sujee/apps/anaconda3/envs/studio-1/lib/python3.11/site-packages (from transformers<5,>=4.37.0->llama-index-llms-openai-like<0.5,>=0.4.0->llama-index-llms-nebius) (25.0)\n",
            "Requirement already satisfied: regex!=2019.12.17 in /home/sujee/apps/anaconda3/envs/studio-1/lib/python3.11/site-packages (from transformers<5,>=4.37.0->llama-index-llms-openai-like<0.5,>=0.4.0->llama-index-llms-nebius) (2024.11.6)\n",
            "Requirement already satisfied: tokenizers<0.22,>=0.21 in /home/sujee/apps/anaconda3/envs/studio-1/lib/python3.11/site-packages (from transformers<5,>=4.37.0->llama-index-llms-openai-like<0.5,>=0.4.0->llama-index-llms-nebius) (0.21.1)\n",
            "Collecting safetensors>=0.4.3 (from transformers<5,>=4.37.0->llama-index-llms-openai-like<0.5,>=0.4.0->llama-index-llms-nebius)\n",
            "  Using cached safetensors-0.5.3-cp38-abi3-manylinux_2_17_x86_64.manylinux2014_x86_64.whl.metadata (3.8 kB)\n",
            "Requirement already satisfied: hf-xet<2.0.0,>=1.1.2 in /home/sujee/apps/anaconda3/envs/studio-1/lib/python3.11/site-packages (from huggingface-hub<1.0,>=0.30.0->transformers<5,>=4.37.0->llama-index-llms-openai-like<0.5,>=0.4.0->llama-index-llms-nebius) (1.1.3)\n",
            "Requirement already satisfied: click in /home/sujee/apps/anaconda3/envs/studio-1/lib/python3.11/site-packages (from nltk>3.8.1->llama-index-core<0.13,>=0.12.0->llama-index-llms-nebius) (8.2.1)\n",
            "Collecting joblib (from nltk>3.8.1->llama-index-core<0.13,>=0.12.0->llama-index-llms-nebius)\n",
            "  Using cached joblib-1.5.1-py3-none-any.whl.metadata (5.6 kB)\n",
            "Requirement already satisfied: charset_normalizer<4,>=2 in /home/sujee/apps/anaconda3/envs/studio-1/lib/python3.11/site-packages (from requests>=2.31.0->llama-index-core<0.13,>=0.12.0->llama-index-llms-nebius) (3.4.2)\n",
            "Requirement already satisfied: urllib3<3,>=1.21.1 in /home/sujee/apps/anaconda3/envs/studio-1/lib/python3.11/site-packages (from requests>=2.31.0->llama-index-core<0.13,>=0.12.0->llama-index-llms-nebius) (2.4.0)\n",
            "Collecting greenlet>=1 (from sqlalchemy>=1.4.49->sqlalchemy[asyncio]>=1.4.49->llama-index-core<0.13,>=0.12.0->llama-index-llms-nebius)\n",
            "  Using cached greenlet-3.2.3-cp311-cp311-manylinux_2_24_x86_64.manylinux_2_28_x86_64.whl.metadata (4.1 kB)\n",
            "Collecting mypy-extensions>=0.3.0 (from typing-inspect>=0.8.0->llama-index-core<0.13,>=0.12.0->llama-index-llms-nebius)\n",
            "  Using cached mypy_extensions-1.1.0-py3-none-any.whl.metadata (1.1 kB)\n",
            "Collecting marshmallow<4.0.0,>=3.18.0 (from dataclasses-json->llama-index-core<0.13,>=0.12.0->llama-index-llms-nebius)\n",
            "  Using cached marshmallow-3.26.1-py3-none-any.whl.metadata (7.3 kB)\n",
            "Collecting colorama>=0.4 (from griffe->banks<3,>=2.0.0->llama-index-core<0.13,>=0.12.0->llama-index-llms-nebius)\n",
            "  Using cached colorama-0.4.6-py2.py3-none-any.whl.metadata (17 kB)\n",
            "Requirement already satisfied: MarkupSafe>=2.0 in /home/sujee/apps/anaconda3/envs/studio-1/lib/python3.11/site-packages (from jinja2->banks<3,>=2.0.0->llama-index-core<0.13,>=0.12.0->llama-index-llms-nebius) (3.0.2)\n",
            "Downloading llama_index_llms_nebius-0.1.2-py3-none-any.whl (3.5 kB)\n",
            "Downloading llama_index_core-0.12.42-py3-none-any.whl (7.7 MB)\n",
            "\u001b[2K   \u001b[90m━━━━━━━━━━━━━━━━━━━━━━━━━━━━━━━━━━━━━━━━\u001b[0m \u001b[32m7.7/7.7 MB\u001b[0m \u001b[31m7.4 MB/s\u001b[0m eta \u001b[36m0:00:00\u001b[0m00:01\u001b[0m00:01\u001b[0m\n",
            "\u001b[?25hUsing cached banks-2.1.2-py3-none-any.whl (28 kB)\n",
            "Using cached dirtyjson-1.0.8-py3-none-any.whl (25 kB)\n",
            "Using cached filetype-1.2.0-py2.py3-none-any.whl (19 kB)\n",
            "Downloading llama_index_llms_openai_like-0.4.0-py3-none-any.whl (4.6 kB)\n",
            "Downloading llama_index_llms_openai-0.4.5-py3-none-any.whl (25 kB)\n",
            "Using cached tenacity-9.1.2-py3-none-any.whl (28 kB)\n",
            "Using cached transformers-4.52.4-py3-none-any.whl (10.5 MB)\n",
            "Using cached Deprecated-1.2.18-py2.py3-none-any.whl (10.0 kB)\n",
            "Using cached wrapt-1.17.2-cp311-cp311-manylinux_2_5_x86_64.manylinux1_x86_64.manylinux_2_17_x86_64.manylinux2014_x86_64.whl (83 kB)\n",
            "Using cached networkx-3.5-py3-none-any.whl (2.0 MB)\n",
            "Using cached nltk-3.9.1-py3-none-any.whl (1.5 MB)\n",
            "Downloading numpy-2.3.0-cp311-cp311-manylinux_2_28_x86_64.whl (16.9 MB)\n",
            "\u001b[2K   \u001b[90m━━━━━━━━━━━━━━━━━━━━━━━━━━━━━━━━━━━━━━━━\u001b[0m \u001b[32m16.9/16.9 MB\u001b[0m \u001b[31m12.4 MB/s\u001b[0m eta \u001b[36m0:00:00\u001b[0ma \u001b[36m0:00:01\u001b[0m\n",
            "\u001b[?25hUsing cached pillow-11.2.1-cp311-cp311-manylinux_2_28_x86_64.whl (4.6 MB)\n",
            "Using cached safetensors-0.5.3-cp38-abi3-manylinux_2_17_x86_64.manylinux2014_x86_64.whl (471 kB)\n",
            "Using cached sqlalchemy-2.0.41-cp311-cp311-manylinux_2_17_x86_64.manylinux2014_x86_64.whl (3.3 MB)\n",
            "Using cached greenlet-3.2.3-cp311-cp311-manylinux_2_24_x86_64.manylinux_2_28_x86_64.whl (585 kB)\n",
            "Using cached typing_inspect-0.9.0-py3-none-any.whl (8.8 kB)\n",
            "Using cached mypy_extensions-1.1.0-py3-none-any.whl (5.0 kB)\n",
            "Using cached aiosqlite-0.21.0-py3-none-any.whl (15 kB)\n",
            "Using cached dataclasses_json-0.6.7-py3-none-any.whl (28 kB)\n",
            "Using cached marshmallow-3.26.1-py3-none-any.whl (50 kB)\n",
            "Using cached griffe-1.7.3-py3-none-any.whl (129 kB)\n",
            "Using cached colorama-0.4.6-py2.py3-none-any.whl (25 kB)\n",
            "Using cached joblib-1.5.1-py3-none-any.whl (307 kB)\n",
            "Installing collected packages: filetype, dirtyjson, wrapt, tenacity, safetensors, pillow, numpy, networkx, mypy-extensions, marshmallow, joblib, greenlet, colorama, aiosqlite, typing-inspect, sqlalchemy, nltk, griffe, deprecated, dataclasses-json, banks, transformers, llama-index-core, llama-index-llms-openai, llama-index-llms-openai-like, llama-index-llms-nebius\n",
            "\u001b[2K   \u001b[90m━━━━━━━━━━━━━━━━━━━━━━━━━━━━━━━━━━━━━━━━\u001b[0m \u001b[32m26/26\u001b[0m [llama-index-llms-nebius]index-core]\n",
            "\u001b[1A\u001b[2KSuccessfully installed aiosqlite-0.21.0 banks-2.1.2 colorama-0.4.6 dataclasses-json-0.6.7 deprecated-1.2.18 dirtyjson-1.0.8 filetype-1.2.0 greenlet-3.2.3 griffe-1.7.3 joblib-1.5.1 llama-index-core-0.12.42 llama-index-llms-nebius-0.1.2 llama-index-llms-openai-0.4.5 llama-index-llms-openai-like-0.4.0 marshmallow-3.26.1 mypy-extensions-1.1.0 networkx-3.5 nltk-3.9.1 numpy-2.3.0 pillow-11.2.1 safetensors-0.5.3 sqlalchemy-2.0.41 tenacity-9.1.2 transformers-4.52.4 typing-inspect-0.9.0 wrapt-1.17.2\n"
          ]
        }
      ],
      "source": [
        "!pip install   llama-index-llms-nebius "
      ]
    },
    {
      "cell_type": "markdown",
      "metadata": {
        "id": "Xp6woeSsFGo5"
      },
      "source": [
        "## 2 - Load Configuration\n"
      ]
    },
    {
      "cell_type": "code",
      "execution_count": 2,
      "metadata": {
        "colab": {
          "base_uri": "https://localhost:8080/"
        },
        "id": "sFSX16IeFLKa",
        "outputId": "40304ba1-036f-4e79-b836-2b706a9a1bcc"
      },
      "outputs": [
        {
          "name": "stdout",
          "output_type": "stream",
          "text": [
            "NOT running in Colab\n",
            "✅ NEBIUS_API_KEY found\n"
          ]
        }
      ],
      "source": [
        "import os, sys\n",
        "\n",
        "## Recommended way of getting configuration\n",
        "if os.getenv(\"COLAB_RELEASE_TAG\"):\n",
        "   print(\"Running in Colab\")\n",
        "   from google.colab import userdata\n",
        "   NEBIUS_API_KEY = userdata.get('NEBIUS_API_KEY')\n",
        "else:\n",
        "   print(\"NOT running in Colab\")\n",
        "   from dotenv import load_dotenv\n",
        "   this_dir = os.path.abspath('')\n",
        "   parent_dir = os.path.dirname(this_dir)\n",
        "   sys.path.append (os.path.abspath (parent_dir))\n",
        "   load_dotenv()\n",
        "   NEBIUS_API_KEY = os.getenv('NEBIUS_API_KEY')\n",
        "\n",
        "## quick hack (not recommended) - you can hardcode the config key here\n",
        "# NEBIUS_API_KEY = \"your_key_here\"\n",
        "\n",
        "if NEBIUS_API_KEY:\n",
        "  print ('✅ NEBIUS_API_KEY found')\n",
        "  os.environ['NEBIUS_API_KEY'] = NEBIUS_API_KEY\n",
        "else:\n",
        "  raise RuntimeError ('❌ NEBIUS_API_KEY NOT found')"
      ]
    },
    {
      "cell_type": "markdown",
      "metadata": {
        "id": "e3vB3EdQGnLX"
      },
      "source": [
        "## 3 - Pick a Model\n",
        "\n",
        "1. Go to **models** tab in [studio.nebius.com](https://studio.nebius.com/)\n",
        "2. Copy the model name.  For example **`meta-llama/Llama-3.3-70B-Instruct`**\n",
        "\n",
        "![](https://raw.githubusercontent.com/nebius/ai-studio-cookbook/main/images/ai-studio-1-models.png)"
      ]
    },
    {
      "cell_type": "markdown",
      "metadata": {},
      "source": [
        "## 4 - Run the Model"
      ]
    },
    {
      "cell_type": "code",
      "execution_count": 4,
      "metadata": {
        "colab": {
          "base_uri": "https://localhost:8080/"
        },
        "id": "R8htBO7iH6-e",
        "outputId": "f5280299-a087-4708-c1dc-4c2f5669bf08"
      },
      "outputs": [
        {
          "name": "stdout",
          "output_type": "stream",
          "text": [
            "----model answer -----\n",
            "The capital of the Netherlands is Amsterdam.\n",
            "---------\n",
            "CPU times: user 50.4 ms, sys: 2.17 ms, total: 52.5 ms\n",
            "Wall time: 1.72 s\n"
          ]
        }
      ],
      "source": [
        "%%time\n",
        "\n",
        "from llama_index.llms.nebius import NebiusLLM\n",
        "\n",
        "llm = NebiusLLM(\n",
        "    model=\"meta-llama/Llama-3.3-70B-Instruct\", \n",
        "    api_key=NEBIUS_API_KEY,\n",
        "    temperature=0.1,  # either set temperature or `top_p`\n",
        ")\n",
        "\n",
        "response = llm.complete(\"What is the capital of Netherlands?\")\n",
        "\n",
        "\n",
        "print ('----model answer -----')\n",
        "print (response)\n",
        "print ('---------')"
      ]
    },
    {
      "cell_type": "markdown",
      "metadata": {},
      "source": [
        "## 5 - Try Your Queries\n",
        "\n",
        "Go ahead and experiment with your queries.  Here are some to get you started.\n",
        "\n",
        "> Write python code to read a csv file\n",
        "\n",
        "> write a haiku about cats"
      ]
    }
  ],
  "metadata": {
    "colab": {
      "provenance": []
    },
    "kernelspec": {
      "display_name": "studio-1",
      "language": "python",
      "name": "python3"
    },
    "language_info": {
      "codemirror_mode": {
        "name": "ipython",
        "version": 3
      },
      "file_extension": ".py",
      "mimetype": "text/x-python",
      "name": "python",
      "nbconvert_exporter": "python",
      "pygments_lexer": "ipython3",
      "version": "3.11.13"
    }
  },
  "nbformat": 4,
  "nbformat_minor": 0
}

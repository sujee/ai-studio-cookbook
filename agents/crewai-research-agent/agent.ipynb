{
 "cells": [
  {
   "cell_type": "markdown",
   "metadata": {
    "id": "SSx-yAbZ7-rt"
   },
   "source": [
    "# Run an Agent using CrewAI and Nebius\n",
    "\n",
    "[![Open In Colab](https://colab.research.google.com/assets/colab-badge.svg)](https://colab.research.google.com/github/nebius/ai-studio-cookbook/blob/main/agents/crewai-research-agent/agent.ipynb)\n",
    "[![](https://img.shields.io/badge/Powered%20by-Nebius-orange?style=flat&labelColor=orange&color=green)](https://nebius.com/ai-studio)\n",
    "\n",
    "This example shows running an agent using [CrewAI](https://docs.crewai.com/) agent framework and running LLM on [Nebius AI Studio](https://studio.nebius.com/)\n",
    "\n",
    "🎥 [Watch video tutorial](https://www.youtube.com/watch?v=jth10qwoMq0)\n",
    "\n",
    "## References and Acknoledgements\n",
    "\n",
    "- [CrewAI documentation](https://docs.crewai.com/en/introduction)\n",
    "- [CrewAI + Nebius](https://docs.crewai.com/en/concepts/llms#nebius-ai-studio)\n",
    "- [Nebius AI Studio documentation](https://docs.nebius.com/studio/inference/quickstart)\n",
    "- This example is contributed from [Arindam200/awesome-ai-apps](https://github.com/Arindam200/awesome-ai-apps)\n",
    "\n",
    "## Pre requisites\n",
    "\n",
    "- Nebius API key.  Sign up for free at [AI Studio](https://studio.nebius.com/)"
   ]
  },
  {
   "cell_type": "markdown",
   "metadata": {
    "id": "u-WGI4vv3TpP"
   },
   "source": [
    "## 1 - Setup\n",
    "\n",
    "### 1.1 - If running on Google Colab\n",
    "\n",
    "Add `NEBIUS_API_KEY` to **Secrets** as follows\n",
    "\n",
    "![](https://github.com/nebius/ai-studio-cookbook/raw/main/images/google-colab-1.png)\n",
    "\n",
    "\n",
    "### 1.2 - If running locally\n",
    "\n",
    "Create an `.env` file with NEBIUS_API_KEY as follows\n",
    "\n",
    "```text\n",
    "NEBIUS_API_KEY=your_api_key_goes_here\n",
    "```\n",
    "\n"
   ]
  },
  {
   "cell_type": "markdown",
   "metadata": {
    "id": "oM9S-4jv3KpW"
   },
   "source": [
    "## 2 - Install Dependencies"
   ]
  },
  {
   "cell_type": "code",
   "execution_count": 1,
   "metadata": {},
   "outputs": [
    {
     "name": "stdout",
     "output_type": "stream",
     "text": [
      "NOT running on Colab\n"
     ]
    }
   ],
   "source": [
    "import os\n",
    "\n",
    "if os.getenv(\"COLAB_RELEASE_TAG\"):\n",
    "   print(\"Running on Colab\")\n",
    "   RUNNING_ON_COLAB = True\n",
    "else:\n",
    "   print(\"NOT running on Colab\")\n",
    "   RUNNING_ON_COLAB = False"
   ]
  },
  {
   "cell_type": "code",
   "execution_count": 2,
   "metadata": {
    "id": "9mBTMSQA6q4J"
   },
   "outputs": [],
   "source": [
    "if RUNNING_ON_COLAB:\n",
    "    !pip install -q  crewai  python-dotenv"
   ]
  },
  {
   "cell_type": "markdown",
   "metadata": {
    "id": "gMX6xbv_7txD"
   },
   "source": [
    "## 3 - Load Configuration"
   ]
  },
  {
   "cell_type": "code",
   "execution_count": 3,
   "metadata": {
    "colab": {
     "base_uri": "https://localhost:8080/"
    },
    "id": "oMmj0jlC7dDw",
    "outputId": "063beb02-0145-4e05-e3f2-812e7fe0d3c6"
   },
   "outputs": [
    {
     "name": "stdout",
     "output_type": "stream",
     "text": [
      "✅ NEBIUS_API_KEY found\n"
     ]
    }
   ],
   "source": [
    "import os\n",
    "\n",
    "## Recommended way of getting configuration\n",
    "if RUNNING_ON_COLAB:\n",
    "   from google.colab import userdata\n",
    "   NEBIUS_API_KEY = userdata.get('NEBIUS_API_KEY')\n",
    "else:\n",
    "   from dotenv import load_dotenv\n",
    "   load_dotenv()\n",
    "   NEBIUS_API_KEY = os.getenv('NEBIUS_API_KEY')\n",
    "\n",
    "\n",
    "## quick hack (not recommended) - you can hardcode the config key here\n",
    "# NEBIUS_API_KEY = \"your_key_here\"\n",
    "\n",
    "if NEBIUS_API_KEY:\n",
    "  print ('✅ NEBIUS_API_KEY found')\n",
    "  os.environ['NEBIUS_API_KEY'] = NEBIUS_API_KEY\n",
    "else:\n",
    "  raise RuntimeError ('❌ NEBIUS_API_KEY NOT found')"
   ]
  },
  {
   "cell_type": "markdown",
   "metadata": {
    "id": "PVfWDLEH4PPF"
   },
   "source": [
    "## 4 - Setup and run the agent\n",
    "\n",
    "We are using [LiteLLM API](https://docs.litellm.ai/docs/).  \n",
    "\n",
    "[Reference](https://docs.crewai.com/en/learn/llm-connections#using-the-llm-class)"
   ]
  },
  {
   "cell_type": "code",
   "execution_count": 4,
   "metadata": {
    "colab": {
     "base_uri": "https://localhost:8080/"
    },
    "id": "J5uh2kUb7IMw",
    "outputId": "eecd9908-41af-479a-d243-334ee27d865d"
   },
   "outputs": [
    {
     "data": {
      "text/html": [
       "<pre style=\"white-space:pre;overflow-x:auto;line-height:normal;font-family:Menlo,'DejaVu Sans Mono',consolas,'Courier New',monospace\"><span style=\"color: #800080; text-decoration-color: #800080\">╭─────────────────────────────────────────────── 🤖 Agent Started ────────────────────────────────────────────────╮</span>\n",
       "<span style=\"color: #800080; text-decoration-color: #800080\">│</span>                                                                                                                 <span style=\"color: #800080; text-decoration-color: #800080\">│</span>\n",
       "<span style=\"color: #800080; text-decoration-color: #800080\">│</span>  <span style=\"color: #c0c0c0; text-decoration-color: #c0c0c0\">Agent: </span><span style=\"color: #00ff00; text-decoration-color: #00ff00; font-weight: bold\">Senior Researcher</span>                                                                                       <span style=\"color: #800080; text-decoration-color: #800080\">│</span>\n",
       "<span style=\"color: #800080; text-decoration-color: #800080\">│</span>                                                                                                                 <span style=\"color: #800080; text-decoration-color: #800080\">│</span>\n",
       "<span style=\"color: #800080; text-decoration-color: #800080\">│</span>  <span style=\"color: #c0c0c0; text-decoration-color: #c0c0c0\">Task: </span><span style=\"color: #00ff00; text-decoration-color: #00ff00\">Identify the next big trend in AI</span>                                                                        <span style=\"color: #800080; text-decoration-color: #800080\">│</span>\n",
       "<span style=\"color: #800080; text-decoration-color: #800080\">│</span>                                                                                                                 <span style=\"color: #800080; text-decoration-color: #800080\">│</span>\n",
       "<span style=\"color: #800080; text-decoration-color: #800080\">╰─────────────────────────────────────────────────────────────────────────────────────────────────────────────────╯</span>\n",
       "</pre>\n"
      ],
      "text/plain": [
       "\u001b[35m╭─\u001b[0m\u001b[35m──────────────────────────────────────────────\u001b[0m\u001b[35m 🤖 Agent Started \u001b[0m\u001b[35m───────────────────────────────────────────────\u001b[0m\u001b[35m─╮\u001b[0m\n",
       "\u001b[35m│\u001b[0m                                                                                                                 \u001b[35m│\u001b[0m\n",
       "\u001b[35m│\u001b[0m  \u001b[37mAgent: \u001b[0m\u001b[1;92mSenior Researcher\u001b[0m                                                                                       \u001b[35m│\u001b[0m\n",
       "\u001b[35m│\u001b[0m                                                                                                                 \u001b[35m│\u001b[0m\n",
       "\u001b[35m│\u001b[0m  \u001b[37mTask: \u001b[0m\u001b[92mIdentify the next big trend in AI\u001b[0m                                                                        \u001b[35m│\u001b[0m\n",
       "\u001b[35m│\u001b[0m                                                                                                                 \u001b[35m│\u001b[0m\n",
       "\u001b[35m╰─────────────────────────────────────────────────────────────────────────────────────────────────────────────────╯\u001b[0m\n"
      ]
     },
     "metadata": {},
     "output_type": "display_data"
    },
    {
     "data": {
      "text/html": [
       "<pre style=\"white-space:pre;overflow-x:auto;line-height:normal;font-family:Menlo,'DejaVu Sans Mono',consolas,'Courier New',monospace\">\n",
       "</pre>\n"
      ],
      "text/plain": [
       "\n"
      ]
     },
     "metadata": {},
     "output_type": "display_data"
    },
    {
     "data": {
      "text/html": [
       "<pre style=\"white-space:pre;overflow-x:auto;line-height:normal;font-family:Menlo,'DejaVu Sans Mono',consolas,'Courier New',monospace\"><span style=\"color: #008000; text-decoration-color: #008000\">╭───────────────────────────────────────────── ✅ Agent Final Answer ─────────────────────────────────────────────╮</span>\n",
       "<span style=\"color: #008000; text-decoration-color: #008000\">│</span>                                                                                                                 <span style=\"color: #008000; text-decoration-color: #008000\">│</span>\n",
       "<span style=\"color: #008000; text-decoration-color: #008000\">│</span>  <span style=\"color: #c0c0c0; text-decoration-color: #c0c0c0\">Agent: </span><span style=\"color: #00ff00; text-decoration-color: #00ff00; font-weight: bold\">Senior Researcher</span>                                                                                       <span style=\"color: #008000; text-decoration-color: #008000\">│</span>\n",
       "<span style=\"color: #008000; text-decoration-color: #008000\">│</span>                                                                                                                 <span style=\"color: #008000; text-decoration-color: #008000\">│</span>\n",
       "<span style=\"color: #008000; text-decoration-color: #008000\">│</span>  <span style=\"color: #c0c0c0; text-decoration-color: #c0c0c0\">Final Answer:</span>                                                                                                  <span style=\"color: #008000; text-decoration-color: #008000\">│</span>\n",
       "<span style=\"color: #008000; text-decoration-color: #008000\">│</span>  <span style=\"color: #00ff00; text-decoration-color: #00ff00\">The next big trend in AI is the rise of **AI-driven sustainability and climate action**, where artificial </span>     <span style=\"color: #008000; text-decoration-color: #008000\">│</span>\n",
       "<span style=\"color: #008000; text-decoration-color: #008000\">│</span>  <span style=\"color: #00ff00; text-decoration-color: #00ff00\">intelligence becomes a foundational tool for addressing global environmental challenges. This trend is fueled</span>  <span style=\"color: #008000; text-decoration-color: #008000\">│</span>\n",
       "<span style=\"color: #008000; text-decoration-color: #008000\">│</span>  <span style=\"color: #00ff00; text-decoration-color: #00ff00\">by the urgent need to mitigate climate change, optimize resource use, and create systems that balance </span>         <span style=\"color: #008000; text-decoration-color: #008000\">│</span>\n",
       "<span style=\"color: #008000; text-decoration-color: #008000\">│</span>  <span style=\"color: #00ff00; text-decoration-color: #00ff00\">technological progress with ecological preservation. AI is no longer just a niche tool for efficiency; it is </span>  <span style=\"color: #008000; text-decoration-color: #008000\">│</span>\n",
       "<span style=\"color: #008000; text-decoration-color: #008000\">│</span>  <span style=\"color: #00ff00; text-decoration-color: #00ff00\">becoming a critical driver for decarbonization, biodiversity conservation, and sustainable development. This </span>  <span style=\"color: #008000; text-decoration-color: #008000\">│</span>\n",
       "<span style=\"color: #008000; text-decoration-color: #008000\">│</span>  <span style=\"color: #00ff00; text-decoration-color: #00ff00\">shift reflects a broader societal demand for technologies that align with planetary boundaries, making </span>        <span style=\"color: #008000; text-decoration-color: #008000\">│</span>\n",
       "<span style=\"color: #008000; text-decoration-color: #008000\">│</span>  <span style=\"color: #00ff00; text-decoration-color: #00ff00\">sustainability a core component of AI innovation.  </span>                                                            <span style=\"color: #008000; text-decoration-color: #008000\">│</span>\n",
       "<span style=\"color: #008000; text-decoration-color: #008000\">│</span>                                                                                                                 <span style=\"color: #008000; text-decoration-color: #008000\">│</span>\n",
       "<span style=\"color: #008000; text-decoration-color: #008000\">│</span>  <span style=\"color: #00ff00; text-decoration-color: #00ff00\">AI’s role in sustainability spans multiple domains, from optimizing energy grids to revolutionizing </span>           <span style=\"color: #008000; text-decoration-color: #008000\">│</span>\n",
       "<span style=\"color: #008000; text-decoration-color: #008000\">│</span>  <span style=\"color: #00ff00; text-decoration-color: #00ff00\">agriculture. For instance, machine learning algorithms are being used to predict energy demand patterns, </span>      <span style=\"color: #008000; text-decoration-color: #008000\">│</span>\n",
       "<span style=\"color: #008000; text-decoration-color: #008000\">│</span>  <span style=\"color: #00ff00; text-decoration-color: #00ff00\">enabling smarter distribution of renewable energy and reducing waste. In the energy sector, AI-powered </span>        <span style=\"color: #008000; text-decoration-color: #008000\">│</span>\n",
       "<span style=\"color: #008000; text-decoration-color: #008000\">│</span>  <span style=\"color: #00ff00; text-decoration-color: #00ff00\">systems can identify inefficiencies in power plants, improve battery storage solutions, and enhance the </span>       <span style=\"color: #008000; text-decoration-color: #008000\">│</span>\n",
       "<span style=\"color: #008000; text-decoration-color: #008000\">│</span>  <span style=\"color: #00ff00; text-decoration-color: #00ff00\">integration of solar and wind energy into existing infrastructure. These applications not only cut costs but </span>  <span style=\"color: #008000; text-decoration-color: #008000\">│</span>\n",
       "<span style=\"color: #008000; text-decoration-color: #008000\">│</span>  <span style=\"color: #00ff00; text-decoration-color: #00ff00\">also significantly lower carbon footprints, demonstrating how AI can directly contribute to achieving </span>         <span style=\"color: #008000; text-decoration-color: #008000\">│</span>\n",
       "<span style=\"color: #008000; text-decoration-color: #008000\">│</span>  <span style=\"color: #00ff00; text-decoration-color: #00ff00\">net-zero goals. The trend is further accelerated by the increasing availability of environmental data, which </span>  <span style=\"color: #008000; text-decoration-color: #008000\">│</span>\n",
       "<span style=\"color: #008000; text-decoration-color: #008000\">│</span>  <span style=\"color: #00ff00; text-decoration-color: #00ff00\">AI systems can process and analyze at unprecedented scales.  </span>                                                  <span style=\"color: #008000; text-decoration-color: #008000\">│</span>\n",
       "<span style=\"color: #008000; text-decoration-color: #008000\">│</span>                                                                                                                 <span style=\"color: #008000; text-decoration-color: #008000\">│</span>\n",
       "<span style=\"color: #008000; text-decoration-color: #008000\">│</span>  <span style=\"color: #00ff00; text-decoration-color: #00ff00\">Another pivotal aspect of this trend is AI’s capacity to monitor and protect ecosystems. Satellite imagery, </span>   <span style=\"color: #008000; text-decoration-color: #008000\">│</span>\n",
       "<span style=\"color: #008000; text-decoration-color: #008000\">│</span>  <span style=\"color: #00ff00; text-decoration-color: #00ff00\">sensor networks, and drone data are being analyzed by AI to track deforestation, ocean acidification, and </span>     <span style=\"color: #008000; text-decoration-color: #008000\">│</span>\n",
       "<span style=\"color: #008000; text-decoration-color: #008000\">│</span>  <span style=\"color: #00ff00; text-decoration-color: #00ff00\">wildlife migration patterns in real time. For example, AI models can detect illegal logging or poaching </span>       <span style=\"color: #008000; text-decoration-color: #008000\">│</span>\n",
       "<span style=\"color: #008000; text-decoration-color: #008000\">│</span>  <span style=\"color: #00ff00; text-decoration-color: #00ff00\">activities by analyzing behavioral patterns, enabling faster interventions. Additionally, generative AI is </span>    <span style=\"color: #008000; text-decoration-color: #008000\">│</span>\n",
       "<span style=\"color: #008000; text-decoration-color: #008000\">│</span>  <span style=\"color: #00ff00; text-decoration-color: #00ff00\">being used to simulate climate scenarios, helping policymakers and scientists understand the long-term </span>        <span style=\"color: #008000; text-decoration-color: #008000\">│</span>\n",
       "<span style=\"color: #008000; text-decoration-color: #008000\">│</span>  <span style=\"color: #00ff00; text-decoration-color: #00ff00\">impacts of different mitigation strategies. These capabilities highlight how AI is transforming from a tool </span>   <span style=\"color: #008000; text-decoration-color: #008000\">│</span>\n",
       "<span style=\"color: #008000; text-decoration-color: #008000\">│</span>  <span style=\"color: #00ff00; text-decoration-color: #00ff00\">of convenience into a guardian of ecological stability.  </span>                                                      <span style=\"color: #008000; text-decoration-color: #008000\">│</span>\n",
       "<span style=\"color: #008000; text-decoration-color: #008000\">│</span>                                                                                                                 <span style=\"color: #008000; text-decoration-color: #008000\">│</span>\n",
       "<span style=\"color: #008000; text-decoration-color: #008000\">│</span>  <span style=\"color: #00ff00; text-decoration-color: #00ff00\">The trend also extends to sustainable manufacturing and supply chains, where AI enables circular economy </span>      <span style=\"color: #008000; text-decoration-color: #008000\">│</span>\n",
       "<span style=\"color: #008000; text-decoration-color: #008000\">│</span>  <span style=\"color: #00ff00; text-decoration-color: #00ff00\">practices. By analyzing material flows and optimizing production processes, AI reduces waste and promotes the</span>  <span style=\"color: #008000; text-decoration-color: #008000\">│</span>\n",
       "<span style=\"color: #008000; text-decoration-color: #008000\">│</span>  <span style=\"color: #00ff00; text-decoration-color: #00ff00\">reuse of resources. For instance, AI-driven platforms can identify recyclable materials in waste streams or </span>   <span style=\"color: #008000; text-decoration-color: #008000\">│</span>\n",
       "<span style=\"color: #008000; text-decoration-color: #008000\">│</span>  <span style=\"color: #00ff00; text-decoration-color: #00ff00\">predict equipment failures to minimize downtime and resource loss. Furthermore, AI is being integrated into </span>   <span style=\"color: #008000; text-decoration-color: #008000\">│</span>\n",
       "<span style=\"color: #008000; text-decoration-color: #008000\">│</span>  <span style=\"color: #00ff00; text-decoration-color: #00ff00\">product design to create more energy-efficient and biodegradable solutions. This shift underscores a </span>          <span style=\"color: #008000; text-decoration-color: #008000\">│</span>\n",
       "<span style=\"color: #008000; text-decoration-color: #008000\">│</span>  <span style=\"color: #00ff00; text-decoration-color: #00ff00\">fundamental transformation in how industries operate, with sustainability no longer a peripheral concern but </span>  <span style=\"color: #008000; text-decoration-color: #008000\">│</span>\n",
       "<span style=\"color: #008000; text-decoration-color: #008000\">│</span>  <span style=\"color: #00ff00; text-decoration-color: #00ff00\">a central design principle.  </span>                                                                                  <span style=\"color: #008000; text-decoration-color: #008000\">│</span>\n",
       "<span style=\"color: #008000; text-decoration-color: #008000\">│</span>                                                                                                                 <span style=\"color: #008000; text-decoration-color: #008000\">│</span>\n",
       "<span style=\"color: #008000; text-decoration-color: #008000\">│</span>  <span style=\"color: #00ff00; text-decoration-color: #00ff00\">Finally, the ethical and collaborative frameworks surrounding AI for sustainability will define its success. </span>  <span style=\"color: #008000; text-decoration-color: #008000\">│</span>\n",
       "<span style=\"color: #008000; text-decoration-color: #008000\">│</span>  <span style=\"color: #00ff00; text-decoration-color: #00ff00\">As AI systems become more embedded in environmental decision-making, ensuring transparency, fairness, and </span>     <span style=\"color: #008000; text-decoration-color: #008000\">│</span>\n",
       "<span style=\"color: #008000; text-decoration-color: #008000\">│</span>  <span style=\"color: #00ff00; text-decoration-color: #00ff00\">accountability is critical. This includes mitigating biases in climate models, protecting data privacy in </span>     <span style=\"color: #008000; text-decoration-color: #008000\">│</span>\n",
       "<span style=\"color: #008000; text-decoration-color: #008000\">│</span>  <span style=\"color: #00ff00; text-decoration-color: #00ff00\">environmental monitoring, and fostering global cooperation to share AI tools and knowledge. The next big </span>      <span style=\"color: #008000; text-decoration-color: #008000\">│</span>\n",
       "<span style=\"color: #008000; text-decoration-color: #008000\">│</span>  <span style=\"color: #00ff00; text-decoration-color: #00ff00\">trend in AI is not merely technological but also deeply societal, requiring interdisciplinary collaboration </span>   <span style=\"color: #008000; text-decoration-color: #008000\">│</span>\n",
       "<span style=\"color: #008000; text-decoration-color: #008000\">│</span>  <span style=\"color: #00ff00; text-decoration-color: #00ff00\">between technologists, policymakers, and communities to ensure that AI-driven sustainability solutions are </span>    <span style=\"color: #008000; text-decoration-color: #008000\">│</span>\n",
       "<span style=\"color: #008000; text-decoration-color: #008000\">│</span>  <span style=\"color: #00ff00; text-decoration-color: #00ff00\">equitable and scalable. This trend signals a paradigm shift in AI’s purpose: from enhancing human </span>             <span style=\"color: #008000; text-decoration-color: #008000\">│</span>\n",
       "<span style=\"color: #008000; text-decoration-color: #008000\">│</span>  <span style=\"color: #00ff00; text-decoration-color: #00ff00\">productivity to safeguarding the planet’s future.</span>                                                              <span style=\"color: #008000; text-decoration-color: #008000\">│</span>\n",
       "<span style=\"color: #008000; text-decoration-color: #008000\">│</span>                                                                                                                 <span style=\"color: #008000; text-decoration-color: #008000\">│</span>\n",
       "<span style=\"color: #008000; text-decoration-color: #008000\">╰─────────────────────────────────────────────────────────────────────────────────────────────────────────────────╯</span>\n",
       "</pre>\n"
      ],
      "text/plain": [
       "\u001b[32m╭─\u001b[0m\u001b[32m────────────────────────────────────────────\u001b[0m\u001b[32m ✅ Agent Final Answer \u001b[0m\u001b[32m────────────────────────────────────────────\u001b[0m\u001b[32m─╮\u001b[0m\n",
       "\u001b[32m│\u001b[0m                                                                                                                 \u001b[32m│\u001b[0m\n",
       "\u001b[32m│\u001b[0m  \u001b[37mAgent: \u001b[0m\u001b[1;92mSenior Researcher\u001b[0m                                                                                       \u001b[32m│\u001b[0m\n",
       "\u001b[32m│\u001b[0m                                                                                                                 \u001b[32m│\u001b[0m\n",
       "\u001b[32m│\u001b[0m  \u001b[37mFinal Answer:\u001b[0m                                                                                                  \u001b[32m│\u001b[0m\n",
       "\u001b[32m│\u001b[0m  \u001b[92mThe next big trend in AI is the rise of **AI-driven sustainability and climate action**, where artificial \u001b[0m     \u001b[32m│\u001b[0m\n",
       "\u001b[32m│\u001b[0m  \u001b[92mintelligence becomes a foundational tool for addressing global environmental challenges. This trend is fueled\u001b[0m  \u001b[32m│\u001b[0m\n",
       "\u001b[32m│\u001b[0m  \u001b[92mby the urgent need to mitigate climate change, optimize resource use, and create systems that balance \u001b[0m         \u001b[32m│\u001b[0m\n",
       "\u001b[32m│\u001b[0m  \u001b[92mtechnological progress with ecological preservation. AI is no longer just a niche tool for efficiency; it is \u001b[0m  \u001b[32m│\u001b[0m\n",
       "\u001b[32m│\u001b[0m  \u001b[92mbecoming a critical driver for decarbonization, biodiversity conservation, and sustainable development. This \u001b[0m  \u001b[32m│\u001b[0m\n",
       "\u001b[32m│\u001b[0m  \u001b[92mshift reflects a broader societal demand for technologies that align with planetary boundaries, making \u001b[0m        \u001b[32m│\u001b[0m\n",
       "\u001b[32m│\u001b[0m  \u001b[92msustainability a core component of AI innovation.  \u001b[0m                                                            \u001b[32m│\u001b[0m\n",
       "\u001b[32m│\u001b[0m                                                                                                                 \u001b[32m│\u001b[0m\n",
       "\u001b[32m│\u001b[0m  \u001b[92mAI’s role in sustainability spans multiple domains, from optimizing energy grids to revolutionizing \u001b[0m           \u001b[32m│\u001b[0m\n",
       "\u001b[32m│\u001b[0m  \u001b[92magriculture. For instance, machine learning algorithms are being used to predict energy demand patterns, \u001b[0m      \u001b[32m│\u001b[0m\n",
       "\u001b[32m│\u001b[0m  \u001b[92menabling smarter distribution of renewable energy and reducing waste. In the energy sector, AI-powered \u001b[0m        \u001b[32m│\u001b[0m\n",
       "\u001b[32m│\u001b[0m  \u001b[92msystems can identify inefficiencies in power plants, improve battery storage solutions, and enhance the \u001b[0m       \u001b[32m│\u001b[0m\n",
       "\u001b[32m│\u001b[0m  \u001b[92mintegration of solar and wind energy into existing infrastructure. These applications not only cut costs but \u001b[0m  \u001b[32m│\u001b[0m\n",
       "\u001b[32m│\u001b[0m  \u001b[92malso significantly lower carbon footprints, demonstrating how AI can directly contribute to achieving \u001b[0m         \u001b[32m│\u001b[0m\n",
       "\u001b[32m│\u001b[0m  \u001b[92mnet-zero goals. The trend is further accelerated by the increasing availability of environmental data, which \u001b[0m  \u001b[32m│\u001b[0m\n",
       "\u001b[32m│\u001b[0m  \u001b[92mAI systems can process and analyze at unprecedented scales.  \u001b[0m                                                  \u001b[32m│\u001b[0m\n",
       "\u001b[32m│\u001b[0m                                                                                                                 \u001b[32m│\u001b[0m\n",
       "\u001b[32m│\u001b[0m  \u001b[92mAnother pivotal aspect of this trend is AI’s capacity to monitor and protect ecosystems. Satellite imagery, \u001b[0m   \u001b[32m│\u001b[0m\n",
       "\u001b[32m│\u001b[0m  \u001b[92msensor networks, and drone data are being analyzed by AI to track deforestation, ocean acidification, and \u001b[0m     \u001b[32m│\u001b[0m\n",
       "\u001b[32m│\u001b[0m  \u001b[92mwildlife migration patterns in real time. For example, AI models can detect illegal logging or poaching \u001b[0m       \u001b[32m│\u001b[0m\n",
       "\u001b[32m│\u001b[0m  \u001b[92mactivities by analyzing behavioral patterns, enabling faster interventions. Additionally, generative AI is \u001b[0m    \u001b[32m│\u001b[0m\n",
       "\u001b[32m│\u001b[0m  \u001b[92mbeing used to simulate climate scenarios, helping policymakers and scientists understand the long-term \u001b[0m        \u001b[32m│\u001b[0m\n",
       "\u001b[32m│\u001b[0m  \u001b[92mimpacts of different mitigation strategies. These capabilities highlight how AI is transforming from a tool \u001b[0m   \u001b[32m│\u001b[0m\n",
       "\u001b[32m│\u001b[0m  \u001b[92mof convenience into a guardian of ecological stability.  \u001b[0m                                                      \u001b[32m│\u001b[0m\n",
       "\u001b[32m│\u001b[0m                                                                                                                 \u001b[32m│\u001b[0m\n",
       "\u001b[32m│\u001b[0m  \u001b[92mThe trend also extends to sustainable manufacturing and supply chains, where AI enables circular economy \u001b[0m      \u001b[32m│\u001b[0m\n",
       "\u001b[32m│\u001b[0m  \u001b[92mpractices. By analyzing material flows and optimizing production processes, AI reduces waste and promotes the\u001b[0m  \u001b[32m│\u001b[0m\n",
       "\u001b[32m│\u001b[0m  \u001b[92mreuse of resources. For instance, AI-driven platforms can identify recyclable materials in waste streams or \u001b[0m   \u001b[32m│\u001b[0m\n",
       "\u001b[32m│\u001b[0m  \u001b[92mpredict equipment failures to minimize downtime and resource loss. Furthermore, AI is being integrated into \u001b[0m   \u001b[32m│\u001b[0m\n",
       "\u001b[32m│\u001b[0m  \u001b[92mproduct design to create more energy-efficient and biodegradable solutions. This shift underscores a \u001b[0m          \u001b[32m│\u001b[0m\n",
       "\u001b[32m│\u001b[0m  \u001b[92mfundamental transformation in how industries operate, with sustainability no longer a peripheral concern but \u001b[0m  \u001b[32m│\u001b[0m\n",
       "\u001b[32m│\u001b[0m  \u001b[92ma central design principle.  \u001b[0m                                                                                  \u001b[32m│\u001b[0m\n",
       "\u001b[32m│\u001b[0m                                                                                                                 \u001b[32m│\u001b[0m\n",
       "\u001b[32m│\u001b[0m  \u001b[92mFinally, the ethical and collaborative frameworks surrounding AI for sustainability will define its success. \u001b[0m  \u001b[32m│\u001b[0m\n",
       "\u001b[32m│\u001b[0m  \u001b[92mAs AI systems become more embedded in environmental decision-making, ensuring transparency, fairness, and \u001b[0m     \u001b[32m│\u001b[0m\n",
       "\u001b[32m│\u001b[0m  \u001b[92maccountability is critical. This includes mitigating biases in climate models, protecting data privacy in \u001b[0m     \u001b[32m│\u001b[0m\n",
       "\u001b[32m│\u001b[0m  \u001b[92menvironmental monitoring, and fostering global cooperation to share AI tools and knowledge. The next big \u001b[0m      \u001b[32m│\u001b[0m\n",
       "\u001b[32m│\u001b[0m  \u001b[92mtrend in AI is not merely technological but also deeply societal, requiring interdisciplinary collaboration \u001b[0m   \u001b[32m│\u001b[0m\n",
       "\u001b[32m│\u001b[0m  \u001b[92mbetween technologists, policymakers, and communities to ensure that AI-driven sustainability solutions are \u001b[0m    \u001b[32m│\u001b[0m\n",
       "\u001b[32m│\u001b[0m  \u001b[92mequitable and scalable. This trend signals a paradigm shift in AI’s purpose: from enhancing human \u001b[0m             \u001b[32m│\u001b[0m\n",
       "\u001b[32m│\u001b[0m  \u001b[92mproductivity to safeguarding the planet’s future.\u001b[0m                                                              \u001b[32m│\u001b[0m\n",
       "\u001b[32m│\u001b[0m                                                                                                                 \u001b[32m│\u001b[0m\n",
       "\u001b[32m╰─────────────────────────────────────────────────────────────────────────────────────────────────────────────────╯\u001b[0m\n"
      ]
     },
     "metadata": {},
     "output_type": "display_data"
    },
    {
     "data": {
      "text/html": [
       "<pre style=\"white-space:pre;overflow-x:auto;line-height:normal;font-family:Menlo,'DejaVu Sans Mono',consolas,'Courier New',monospace\">\n",
       "</pre>\n"
      ],
      "text/plain": [
       "\n"
      ]
     },
     "metadata": {},
     "output_type": "display_data"
    }
   ],
   "source": [
    "from crewai import Agent, Task,LLM\n",
    "import os\n",
    "from crewai import Crew, Process\n",
    "\n",
    "llm=LLM(\n",
    "        model=\"nebius/Qwen/Qwen3-30B-A3B\",\n",
    "        # model=\"nebius/deepseek-ai/DeepSeek-R1-0528\",\n",
    "        api_key=os.getenv(\"NEBIUS_API_KEY\")\n",
    ")\n",
    "\n",
    "# Create a researcher agent\n",
    "## see documentation : https://docs.crewai.com/en/concepts/agents#direct-code-definition\n",
    "\n",
    "researcher = Agent(\n",
    "  role='Senior Researcher',\n",
    "  goal='Discover groundbreaking technologies',\n",
    "  verbose=True,\n",
    "  llm=llm,\n",
    "  backstory='A curious mind fascinated by cutting-edge innovation and the potential to change the world, you know everything about tech.'\n",
    ")\n",
    "\n",
    "# Task for the researcher\n",
    "research_task = Task(\n",
    "  description='Identify the next big trend in AI',\n",
    "  expected_output='5 paragraphs on the next big AI trend',\n",
    "  agent=researcher  # Assigning the task to the researcher\n",
    ")\n",
    "\n",
    "# Instantiate your crew\n",
    "tech_crew = Crew(\n",
    "  agents=[researcher],\n",
    "  tasks=[research_task],\n",
    "  process=Process.sequential  # Tasks will be executed one after the other\n",
    ")\n",
    "\n",
    "# Begin the task execution\n",
    "result = tech_crew.kickoff()"
   ]
  },
  {
   "cell_type": "code",
   "execution_count": 5,
   "metadata": {
    "colab": {
     "base_uri": "https://localhost:8080/"
    },
    "id": "pBaoKOWXytzS",
    "outputId": "804a8a04-c89e-4422-a8c3-4bb45210c1b0"
   },
   "outputs": [
    {
     "name": "stdout",
     "output_type": "stream",
     "text": [
      "=== CREW OUTPUT ===\n",
      "The next big trend in AI is the rise of **AI-driven sustainability and climate action**, where artificial intelligence becomes a foundational tool for addressing global environmental challenges. This trend is fueled by the urgent need to mitigate climate change, optimize resource use, and create systems that balance technological progress with ecological preservation. AI is no longer just a niche tool for efficiency; it is becoming a critical driver for decarbonization, biodiversity conservation, and sustainable development. This shift reflects a broader societal demand for technologies that align with planetary boundaries, making sustainability a core component of AI innovation.  \n",
      "\n",
      "AI’s role in sustainability spans multiple domains, from optimizing energy grids to revolutionizing agriculture. For instance, machine learning algorithms are being used to predict energy demand patterns, enabling smarter distribution of renewable energy and reducing waste. In the energy sector, AI-powered systems can identify inefficiencies in power plants, improve battery storage solutions, and enhance the integration of solar and wind energy into existing infrastructure. These applications not only cut costs but also significantly lower carbon footprints, demonstrating how AI can directly contribute to achieving net-zero goals. The trend is further accelerated by the increasing availability of environmental data, which AI systems can process and analyze at unprecedented scales.  \n",
      "\n",
      "Another pivotal aspect of this trend is AI’s capacity to monitor and protect ecosystems. Satellite imagery, sensor networks, and drone data are being analyzed by AI to track deforestation, ocean acidification, and wildlife migration patterns in real time. For example, AI models can detect illegal logging or poaching activities by analyzing behavioral patterns, enabling faster interventions. Additionally, generative AI is being used to simulate climate scenarios, helping policymakers and scientists understand the long-term impacts of different mitigation strategies. These capabilities highlight how AI is transforming from a tool of convenience into a guardian of ecological stability.  \n",
      "\n",
      "The trend also extends to sustainable manufacturing and supply chains, where AI enables circular economy practices. By analyzing material flows and optimizing production processes, AI reduces waste and promotes the reuse of resources. For instance, AI-driven platforms can identify recyclable materials in waste streams or predict equipment failures to minimize downtime and resource loss. Furthermore, AI is being integrated into product design to create more energy-efficient and biodegradable solutions. This shift underscores a fundamental transformation in how industries operate, with sustainability no longer a peripheral concern but a central design principle.  \n",
      "\n",
      "Finally, the ethical and collaborative frameworks surrounding AI for sustainability will define its success. As AI systems become more embedded in environmental decision-making, ensuring transparency, fairness, and accountability is critical. This includes mitigating biases in climate models, protecting data privacy in environmental monitoring, and fostering global cooperation to share AI tools and knowledge. The next big trend in AI is not merely technological but also deeply societal, requiring interdisciplinary collaboration between technologists, policymakers, and communities to ensure that AI-driven sustainability solutions are equitable and scalable. This trend signals a paradigm shift in AI’s purpose: from enhancing human productivity to safeguarding the planet’s future.\n",
      "\n",
      "=== TOKEN USAGE ===\n",
      "Total tokens: 1826\n",
      "Prompt tokens: 187\n",
      "Completion tokens: 1639\n",
      "Successful requests: 1\n"
     ]
    }
   ],
   "source": [
    "## see raw response\n",
    "## Look at `token_usage` output\n",
    "print(\"=== CREW OUTPUT ===\")\n",
    "print(result.raw)\n",
    "print(\"\\n=== TOKEN USAGE ===\")\n",
    "print(f\"Total tokens: {result.token_usage.total_tokens}\")\n",
    "print(f\"Prompt tokens: {result.token_usage.prompt_tokens}\")\n",
    "print(f\"Completion tokens: {result.token_usage.completion_tokens}\")\n",
    "print(f\"Successful requests: {result.token_usage.successful_requests}\")\n",
    "\n",
    "# result"
   ]
  },
  {
   "cell_type": "markdown",
   "metadata": {
    "id": "SsmAKpwwxGWX"
   },
   "source": [
    "## 5 - Experiment\n",
    "\n",
    "Now that our research agent is working, try the following\n",
    "\n",
    "### 1 - Try a different LLM\n",
    "\n",
    "Differnt LLMs might give different asnwer\n",
    "\n"
   ]
  }
 ],
 "metadata": {
  "colab": {
   "provenance": []
  },
  "kernelspec": {
   "display_name": "starter-agent",
   "language": "python",
   "name": "python3"
  },
  "language_info": {
   "codemirror_mode": {
    "name": "ipython",
    "version": 3
   },
   "file_extension": ".py",
   "mimetype": "text/x-python",
   "name": "python",
   "nbconvert_exporter": "python",
   "pygments_lexer": "ipython3",
   "version": "3.11.12"
  }
 },
 "nbformat": 4,
 "nbformat_minor": 4
}
